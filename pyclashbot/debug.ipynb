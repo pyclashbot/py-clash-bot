{
 "cells": [
  {
   "cell_type": "markdown",
   "metadata": {},
   "source": [
    "# Testing and Debugging"
   ]
  },
  {
   "cell_type": "markdown",
   "metadata": {},
   "source": [
    "testing the line wrap functions of the logger printer"
   ]
  },
  {
   "cell_type": "code",
   "execution_count": 1,
   "metadata": {},
   "outputs": [
    {
     "name": "stdout",
     "output_type": "stream",
     "text": [
      "----------------------------------------------------------------------------------- \n",
      "|      Program uptime:      | 0:00:00 \n",
      "|---------------------------------------------------------------------------------- \n",
      "|     Program restarts:     | 0 \n",
      "|---------------------------------------------------------------------------------- \n",
      "|         Requests:         | 0 \n",
      "|---------------------------------------------------------------------------------- \n",
      "|          Fights:          | 0 \n",
      "|---------------------------------------------------------------------------------- \n",
      "|         Win rate:         | 0W|0L \n",
      "|---------------------------------------------------------------------------------- \n",
      "|      Chests unlocked:     | 0 \n",
      "|---------------------------------------------------------------------------------- \n",
      "|       Cards played:       | 0 \n",
      "|---------------------------------------------------------------------------------- \n",
      "|      Account switches:    | 0 \n",
      "|---------------------------------------------------------------------------------- \n",
      "|      Current status:      | short test \n",
      "----------------------------------------------------------------------------------- \n",
      "\n",
      "----------------------------------------------------------------------------------- \n",
      "|      Program uptime:      | 0:00:00 \n",
      "|---------------------------------------------------------------------------------- \n",
      "|     Program restarts:     | 0 \n",
      "|---------------------------------------------------------------------------------- \n",
      "|         Requests:         | 0 \n",
      "|---------------------------------------------------------------------------------- \n",
      "|          Fights:          | 0 \n",
      "|---------------------------------------------------------------------------------- \n",
      "|         Win rate:         | 0W|0L \n",
      "|---------------------------------------------------------------------------------- \n",
      "|      Chests unlocked:     | 0 \n",
      "|---------------------------------------------------------------------------------- \n",
      "|       Cards played:       | 0 \n",
      "|---------------------------------------------------------------------------------- \n",
      "|      Account switches:    | 0 \n",
      "|---------------------------------------------------------------------------------- \n",
      "|      Current status:      | this is a long status that should be wrapped to the \n",
      "|                           | next line \n",
      "----------------------------------------------------------------------------------- \n",
      "\n"
     ]
    }
   ],
   "source": [
    "from pyclashbot.logger import Logger\n",
    "\n",
    "logger = Logger()\n",
    "\n",
    "# test the loggers linewrap function\n",
    "logger.change_status(\"short test\")\n",
    "\n",
    "long_status = \"this is a long status that should be wrapped to the next line\"\n",
    "logger.change_status(long_status)\n",
    "\n"
   ]
  },
  {
   "cell_type": "markdown",
   "metadata": {},
   "source": [
    "speed testing image recoginition"
   ]
  },
  {
   "cell_type": "code",
   "execution_count": 2,
   "metadata": {},
   "outputs": [
    {
     "name": "stdout",
     "output_type": "stream",
     "text": [
      "0.2541903999999704 seconds for 5000000 image compares\n"
     ]
    }
   ],
   "source": [
    "from tests.image_rec_test import ImageRecTest\n",
    "\n",
    "# run the image rec compare speed test\n",
    "ImageRecTest().test_compare_speed()"
   ]
  }
 ],
 "metadata": {
  "kernelspec": {
   "display_name": "Python 3.10.6 ('.venv': venv)",
   "language": "python",
   "name": "python3"
  },
  "language_info": {
   "codemirror_mode": {
    "name": "ipython",
    "version": 3
   },
   "file_extension": ".py",
   "mimetype": "text/x-python",
   "name": "python",
   "nbconvert_exporter": "python",
   "pygments_lexer": "ipython3",
   "version": "3.10.6"
  },
  "orig_nbformat": 4,
  "vscode": {
   "interpreter": {
    "hash": "76ffa8834e3f54b44974cb19b0b070cb39a5d0309c8ebec396618e21389f8bd0"
   }
  }
 },
 "nbformat": 4,
 "nbformat_minor": 2
}
