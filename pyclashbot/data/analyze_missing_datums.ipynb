{
 "cells": [
  {
   "cell_type": "markdown",
   "metadata": {},
   "source": [
    "# Card Data Analysis: Missing Attributes\n",
    "\n",
    "This notebook analyzes the cards.json file to identify all possible attributes and determine which cards are missing each attribute."
   ]
  },
  {
   "cell_type": "code",
   "execution_count": 7,
   "metadata": {},
   "outputs": [],
   "source": [
    "import json\n",
    "import pandas as pd\n",
    "from collections import defaultdict, Counter\n",
    "import matplotlib.pyplot as plt\n",
    "import seaborn as sns\n",
    "\n",
    "# Set up plotting style\n",
    "plt.style.use('default')\n",
    "sns.set_palette(\"husl\")"
   ]
  },
  {
   "cell_type": "markdown",
   "metadata": {},
   "source": [
    "## Load and Explore the Data"
   ]
  },
  {
   "cell_type": "markdown",
   "metadata": {},
   "source": [
    "## Discover All Possible Attributes"
   ]
  },
  {
   "cell_type": "markdown",
   "metadata": {},
   "source": [
    "## Attribute Coverage Analysis"
   ]
  },
  {
   "cell_type": "markdown",
   "metadata": {},
   "source": [
    "## Visualization: Attribute Coverage"
   ]
  },
  {
   "cell_type": "markdown",
   "metadata": {},
   "source": [
    "## Detailed Breakdown: Missing Data by Attribute"
   ]
  },
  {
   "cell_type": "markdown",
   "metadata": {},
   "source": [
    "## Analysis by Card Type"
   ]
  },
  {
   "cell_type": "markdown",
   "metadata": {},
   "source": [
    "## High-Level Recommendations"
   ]
  },
  {
   "cell_type": "markdown",
   "metadata": {},
   "source": [
    "## Export Results"
   ]
  },
  {
   "cell_type": "code",
   "execution_count": 8,
   "metadata": {},
   "outputs": [
    {
     "name": "stdout",
     "output_type": "stream",
     "text": [
      "Unit 'Elixir Golemite' is in unit_class_to_idx.json but missing from units.json\n",
      "Unit 'Goblin Brawler' is in unit_class_to_idx.json but missing from units.json\n",
      "Unit 'Golemite' is in unit_class_to_idx.json but missing from units.json\n",
      "Unit 'Lava Pup' is in unit_class_to_idx.json but missing from units.json\n"
     ]
    }
   ],
   "source": [
    "units_label_to_idx_path = r'H:\\my_files\\my_programs\\clash\\clash-royale-fight-vision-demo\\models\\unit_class_to_idx.json'\n",
    "units_json_path = r'H:\\my_files\\my_programs\\clash\\clash-royale-fight-vision-demo\\data\\units.json'\n",
    "\n",
    "import json\n",
    "\n",
    "units_label_to_idx_units = []\n",
    "with open(units_label_to_idx_path, 'r', encoding='utf-8') as f:\n",
    "    content = json.load(f)\n",
    "    keys = list(content.keys())\n",
    "    units_label_to_idx_units = keys\n",
    "\n",
    "\n",
    "unit_json_units = []\n",
    "with open(units_json_path, 'r', encoding='utf-8') as f:\n",
    "    units = json.load(f)['units']\n",
    "    for unit in units:\n",
    "        name = unit['name']\n",
    "        unit_json_units.append(name)\n",
    "\n",
    "for unit_json_unit in unit_json_units:\n",
    "    if unit_json_unit not in units_label_to_idx_units:\n",
    "        print(f\"Unit '{unit_json_unit}' is in units.json but missing from unit_class_to_idx.json\")\n",
    "\n",
    "for units_label_to_idx_unit in units_label_to_idx_units:\n",
    "    if units_label_to_idx_unit not in unit_json_units:\n",
    "        print(f\"Unit '{units_label_to_idx_unit}' is in unit_class_to_idx.json but missing from units.json\")"
   ]
  }
 ],
 "metadata": {
  "kernelspec": {
   "display_name": "Python 3",
   "language": "python",
   "name": "python3"
  },
  "language_info": {
   "codemirror_mode": {
    "name": "ipython",
    "version": 3
   },
   "file_extension": ".py",
   "mimetype": "text/x-python",
   "name": "python",
   "nbconvert_exporter": "python",
   "pygments_lexer": "ipython3",
   "version": "3.11.1"
  }
 },
 "nbformat": 4,
 "nbformat_minor": 4
}
